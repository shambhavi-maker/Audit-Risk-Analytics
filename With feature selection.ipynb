{
 "cells": [
  {
   "cell_type": "code",
   "execution_count": 1,
   "id": "ac8e6934",
   "metadata": {},
   "outputs": [],
   "source": [
    "import pandas as pd \n",
    "import numpy as np\n"
   ]
  },
  {
   "cell_type": "code",
   "execution_count": 2,
   "id": "13aec9e1",
   "metadata": {},
   "outputs": [],
   "source": [
    "df= pd.read_csv('sample.csv')"
   ]
  },
  {
   "cell_type": "code",
   "execution_count": 4,
   "id": "c931399f",
   "metadata": {},
   "outputs": [],
   "source": [
    "df = df.drop('Unnamed: 0', axis=1)"
   ]
  },
  {
   "cell_type": "code",
   "execution_count": 5,
   "id": "e6c29c70",
   "metadata": {},
   "outputs": [
    {
     "data": {
      "text/html": [
       "<div>\n",
       "<style scoped>\n",
       "    .dataframe tbody tr th:only-of-type {\n",
       "        vertical-align: middle;\n",
       "    }\n",
       "\n",
       "    .dataframe tbody tr th {\n",
       "        vertical-align: top;\n",
       "    }\n",
       "\n",
       "    .dataframe thead th {\n",
       "        text-align: right;\n",
       "    }\n",
       "</style>\n",
       "<table border=\"1\" class=\"dataframe\">\n",
       "  <thead>\n",
       "    <tr style=\"text-align: right;\">\n",
       "      <th></th>\n",
       "      <th>Sector_score</th>\n",
       "      <th>LOCATION_ID</th>\n",
       "      <th>PARA_A</th>\n",
       "      <th>Score_A</th>\n",
       "      <th>Risk_A</th>\n",
       "      <th>PARA_B</th>\n",
       "      <th>Score_B</th>\n",
       "      <th>Risk_B</th>\n",
       "      <th>TOTAL</th>\n",
       "      <th>numbers</th>\n",
       "      <th>...</th>\n",
       "      <th>CONTROL_RISK</th>\n",
       "      <th>Detection_Risk</th>\n",
       "      <th>Audit_Risk</th>\n",
       "      <th>Risk</th>\n",
       "      <th>Marks</th>\n",
       "      <th>MONEY_Marks</th>\n",
       "      <th>District</th>\n",
       "      <th>Loss</th>\n",
       "      <th>LOSS_SCORE</th>\n",
       "      <th>History_score</th>\n",
       "    </tr>\n",
       "  </thead>\n",
       "  <tbody>\n",
       "    <tr>\n",
       "      <th>0</th>\n",
       "      <td>3.89</td>\n",
       "      <td>23.0</td>\n",
       "      <td>4.18</td>\n",
       "      <td>0.6</td>\n",
       "      <td>2.508</td>\n",
       "      <td>2.50</td>\n",
       "      <td>0.2</td>\n",
       "      <td>0.500</td>\n",
       "      <td>6.68</td>\n",
       "      <td>5.0</td>\n",
       "      <td>...</td>\n",
       "      <td>0.4</td>\n",
       "      <td>0.5</td>\n",
       "      <td>1.7148</td>\n",
       "      <td>1.0</td>\n",
       "      <td>2.0</td>\n",
       "      <td>2.0</td>\n",
       "      <td>2.0</td>\n",
       "      <td>0.0</td>\n",
       "      <td>2.0</td>\n",
       "      <td>2.0</td>\n",
       "    </tr>\n",
       "    <tr>\n",
       "      <th>1</th>\n",
       "      <td>3.89</td>\n",
       "      <td>6.0</td>\n",
       "      <td>0.00</td>\n",
       "      <td>0.2</td>\n",
       "      <td>0.000</td>\n",
       "      <td>4.83</td>\n",
       "      <td>0.2</td>\n",
       "      <td>0.966</td>\n",
       "      <td>4.83</td>\n",
       "      <td>5.0</td>\n",
       "      <td>...</td>\n",
       "      <td>0.4</td>\n",
       "      <td>0.5</td>\n",
       "      <td>0.5108</td>\n",
       "      <td>0.0</td>\n",
       "      <td>2.0</td>\n",
       "      <td>2.0</td>\n",
       "      <td>2.0</td>\n",
       "      <td>0.0</td>\n",
       "      <td>2.0</td>\n",
       "      <td>2.0</td>\n",
       "    </tr>\n",
       "    <tr>\n",
       "      <th>2</th>\n",
       "      <td>3.89</td>\n",
       "      <td>6.0</td>\n",
       "      <td>0.51</td>\n",
       "      <td>0.2</td>\n",
       "      <td>0.102</td>\n",
       "      <td>0.23</td>\n",
       "      <td>0.2</td>\n",
       "      <td>0.046</td>\n",
       "      <td>0.74</td>\n",
       "      <td>5.0</td>\n",
       "      <td>...</td>\n",
       "      <td>0.4</td>\n",
       "      <td>0.5</td>\n",
       "      <td>0.3096</td>\n",
       "      <td>0.0</td>\n",
       "      <td>2.0</td>\n",
       "      <td>2.0</td>\n",
       "      <td>2.0</td>\n",
       "      <td>0.0</td>\n",
       "      <td>2.0</td>\n",
       "      <td>2.0</td>\n",
       "    </tr>\n",
       "    <tr>\n",
       "      <th>3</th>\n",
       "      <td>3.89</td>\n",
       "      <td>6.0</td>\n",
       "      <td>0.00</td>\n",
       "      <td>0.2</td>\n",
       "      <td>0.000</td>\n",
       "      <td>10.80</td>\n",
       "      <td>0.6</td>\n",
       "      <td>6.480</td>\n",
       "      <td>10.80</td>\n",
       "      <td>6.0</td>\n",
       "      <td>...</td>\n",
       "      <td>0.4</td>\n",
       "      <td>0.5</td>\n",
       "      <td>3.5060</td>\n",
       "      <td>1.0</td>\n",
       "      <td>6.0</td>\n",
       "      <td>6.0</td>\n",
       "      <td>2.0</td>\n",
       "      <td>0.0</td>\n",
       "      <td>2.0</td>\n",
       "      <td>2.0</td>\n",
       "    </tr>\n",
       "    <tr>\n",
       "      <th>4</th>\n",
       "      <td>3.89</td>\n",
       "      <td>6.0</td>\n",
       "      <td>0.00</td>\n",
       "      <td>0.2</td>\n",
       "      <td>0.000</td>\n",
       "      <td>0.08</td>\n",
       "      <td>0.2</td>\n",
       "      <td>0.016</td>\n",
       "      <td>0.08</td>\n",
       "      <td>5.0</td>\n",
       "      <td>...</td>\n",
       "      <td>0.4</td>\n",
       "      <td>0.5</td>\n",
       "      <td>0.2832</td>\n",
       "      <td>0.0</td>\n",
       "      <td>2.0</td>\n",
       "      <td>2.0</td>\n",
       "      <td>2.0</td>\n",
       "      <td>0.0</td>\n",
       "      <td>2.0</td>\n",
       "      <td>2.0</td>\n",
       "    </tr>\n",
       "  </tbody>\n",
       "</table>\n",
       "<p>5 rows × 32 columns</p>\n",
       "</div>"
      ],
      "text/plain": [
       "   Sector_score  LOCATION_ID  PARA_A  Score_A  Risk_A  PARA_B  Score_B  \\\n",
       "0          3.89         23.0    4.18      0.6   2.508    2.50      0.2   \n",
       "1          3.89          6.0    0.00      0.2   0.000    4.83      0.2   \n",
       "2          3.89          6.0    0.51      0.2   0.102    0.23      0.2   \n",
       "3          3.89          6.0    0.00      0.2   0.000   10.80      0.6   \n",
       "4          3.89          6.0    0.00      0.2   0.000    0.08      0.2   \n",
       "\n",
       "   Risk_B  TOTAL  numbers  ...  CONTROL_RISK  Detection_Risk  Audit_Risk  \\\n",
       "0   0.500   6.68      5.0  ...           0.4             0.5      1.7148   \n",
       "1   0.966   4.83      5.0  ...           0.4             0.5      0.5108   \n",
       "2   0.046   0.74      5.0  ...           0.4             0.5      0.3096   \n",
       "3   6.480  10.80      6.0  ...           0.4             0.5      3.5060   \n",
       "4   0.016   0.08      5.0  ...           0.4             0.5      0.2832   \n",
       "\n",
       "   Risk  Marks  MONEY_Marks  District  Loss  LOSS_SCORE  History_score  \n",
       "0   1.0    2.0          2.0       2.0   0.0         2.0            2.0  \n",
       "1   0.0    2.0          2.0       2.0   0.0         2.0            2.0  \n",
       "2   0.0    2.0          2.0       2.0   0.0         2.0            2.0  \n",
       "3   1.0    6.0          6.0       2.0   0.0         2.0            2.0  \n",
       "4   0.0    2.0          2.0       2.0   0.0         2.0            2.0  \n",
       "\n",
       "[5 rows x 32 columns]"
      ]
     },
     "execution_count": 5,
     "metadata": {},
     "output_type": "execute_result"
    }
   ],
   "source": [
    "df.head()"
   ]
  },
  {
   "cell_type": "code",
   "execution_count": 6,
   "id": "ffacc862",
   "metadata": {},
   "outputs": [],
   "source": [
    "# Assuming 'Risk' is the target variable for prediction\n",
    "X = df.drop('Risk', axis=1)  # Features\n",
    "y = df['Risk']  # Target"
   ]
  },
  {
   "cell_type": "code",
   "execution_count": 7,
   "id": "5a21ece3",
   "metadata": {},
   "outputs": [],
   "source": [
    "from sklearn.model_selection import train_test_split\n",
    "\n",
    "# Split the data into training and test sets\n",
    "X_train, X_test, y_train, y_test = train_test_split(X, y, test_size=0.2, random_state=42)"
   ]
  },
  {
   "cell_type": "code",
   "execution_count": null,
   "id": "412de5fc",
   "metadata": {},
   "outputs": [],
   "source": [
    "from sklearn.model_selection import train_test_split\n",
    "from sklearn.linear_model import LogisticRegression\n",
    "from sklearn.metrics import classification_report, confusion_matrix\n",
    "from sklearn.metrics import accuracy_score"
   ]
  },
  {
   "cell_type": "code",
   "execution_count": 11,
   "id": "d2ea3a3f",
   "metadata": {},
   "outputs": [],
   "source": [
    "from sklearn.metrics import mean_squared_error\n",
    "from mlxtend.feature_selection import SequentialFeatureSelector as SFS"
   ]
  },
  {
   "cell_type": "code",
   "execution_count": 23,
   "id": "bbd09334",
   "metadata": {},
   "outputs": [
    {
     "name": "stdout",
     "output_type": "stream",
     "text": [
      "training 0.9589017798900382\n",
      "testing 0.8636752136752136\n"
     ]
    }
   ],
   "source": [
    "import warnings\n",
    "warnings.filterwarnings('ignore')\n",
    "\n",
    "mod=LogisticRegression(max_iter=1000)\n",
    "\n",
    "print(\"training\",np.mean(cross_val_score(model, X_train, y_train, cv=5, scoring='r2')))\n",
    "print(\"testing\",np.mean(cross_val_score(model, X_test, y_test, cv=5, scoring='r2')))"
   ]
  },
  {
   "cell_type": "code",
   "execution_count": 30,
   "id": "08e93e71",
   "metadata": {},
   "outputs": [
    {
     "name": "stdout",
     "output_type": "stream",
     "text": [
      "Best score: 0.9917626337894596\n",
      "Best features: ('Sector_score', 'Score_A', 'Audit_Risk')\n"
     ]
    }
   ],
   "source": [
    "model = LogisticRegression()\n",
    "\n",
    "# create the sequential forward selector\n",
    "sfs = SFS(model, k_features=3, forward=True, scoring='accuracy')\n",
    "\n",
    "# fit the selector to the data\n",
    "sfs.fit(X_train, y_train)\n",
    "\n",
    "# get the best score and feature names\n",
    "best_score = sfs.k_score_\n",
    "best_features = sfs.k_feature_names_\n",
    "\n",
    "# print the results\n",
    "print('Best score:', best_score)\n",
    "print('Best features:', best_features)"
   ]
  },
  {
   "cell_type": "code",
   "execution_count": 31,
   "id": "dd838f04",
   "metadata": {},
   "outputs": [
    {
     "name": "stdout",
     "output_type": "stream",
     "text": [
      "training 0.9656381045568911\n",
      "testing 0.9179487179487179\n"
     ]
    }
   ],
   "source": [
    "from sklearn.model_selection import cross_val_score\n",
    "\n",
    "X_train_sel = sfs.transform(X_train)\n",
    "X_test_sel = sfs.transform(X_test)\n",
    "\n",
    "print(\"training\",np.mean(cross_val_score(model, X_train_sel, y_train, cv=5, scoring='r2')))\n",
    "print(\"testing\",np.mean(cross_val_score(model, X_test_sel, y_test, cv=5, scoring='r2')))"
   ]
  },
  {
   "cell_type": "code",
   "execution_count": 32,
   "id": "fb830606",
   "metadata": {},
   "outputs": [
    {
     "data": {
      "image/png": "[encoded data removed]",
      "text/plain": [
       "<Figure size 640x480 with 1 Axes>"
      ]
     },
     "metadata": {},
     "output_type": "display_data"
    }
   ],
   "source": [
    "from mlxtend.plotting import plot_sequential_feature_selection as plot_sfs\n",
    "import matplotlib.pyplot as plt\n",
    "\n",
    "fig1 = plot_sfs(sfs.get_metric_dict(), kind='std_err',)\n",
    "\n",
    "plt.title('Sequential Backward Elimination (w. StdErr)')\n",
    "plt.grid()\n",
    "plt.show()"
   ]
  },
  {
   "cell_type": "code",
   "execution_count": 35,
   "id": "4ef9e6fb",
   "metadata": {},
   "outputs": [
    {
     "name": "stdout",
     "output_type": "stream",
     "text": [
      "Best score: 0.9917626337894596\n",
      "Best features: ('Sector_score', 'Audit_Risk')\n"
     ]
    }
   ],
   "source": [
    "# create the sequential forward selector\n",
    "sfs1 = SFS(model, k_features=2, forward=True, scoring='accuracy')\n",
    "\n",
    "# fit the selector to the data\n",
    "sfs1.fit(X_train, y_train)\n",
    "\n",
    "# get the best score and feature names\n",
    "best_score1 = sfs1.k_score_\n",
    "best_features1 = sfs1.k_feature_names_\n",
    "\n",
    "# print the results\n",
    "print('Best score:', best_score1)\n",
    "print('Best features:', best_features1)"
   ]
  },
  {
   "cell_type": "code",
   "execution_count": null,
   "id": "b8866e9e",
   "metadata": {},
   "outputs": [],
   "source": []
  }
 ],
 "metadata": {
  "kernelspec": {
   "display_name": "Python 3 (ipykernel)",
   "language": "python",
   "name": "python3"
  },
  "language_info": {
   "codemirror_mode": {
    "name": "ipython",
    "version": 3
   },
   "file_extension": ".py",
   "mimetype": "text/x-python",
   "name": "python",
   "nbconvert_exporter": "python",
   "pygments_lexer": "ipython3",
   "version": "3.11.5"
  }
 },
 "nbformat": 4,
 "nbformat_minor": 5
}
